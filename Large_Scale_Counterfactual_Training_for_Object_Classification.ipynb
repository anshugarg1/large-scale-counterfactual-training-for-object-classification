{
  "nbformat": 4,
  "nbformat_minor": 0,
  "metadata": {
    "colab": {
      "name": "Large-Scale Counterfactual Training for Object Classification.ipynb",
      "provenance": [],
      "collapsed_sections": []
    },
    "kernelspec": {
      "name": "python3",
      "display_name": "Python 3"
    },
    "accelerator": "GPU"
  },
  "cells": [
    {
      "cell_type": "code",
      "metadata": {
        "id": "LRLKkb7kVJec"
      },
      "source": [
        ""
      ],
      "execution_count": null,
      "outputs": []
    },
    {
      "cell_type": "markdown",
      "metadata": {
        "id": "pzLdDUXAmCGt"
      },
      "source": [
        "<html>\n",
        "<body>\n",
        "<h1> <b>Large-Scale Counterfactual Training for Object Classification </b> </h1>\n",
        "<p> Author: Anshu Garg</p>\n",
        "<p> Email: a_garg19@cs.uni-kl.de </p>\n",
        "<p> Matrikel Nummer: 414686 </p>\n",
        "\n",
        "</body>\n",
        "\n",
        "</html>"
      ]
    },
    {
      "cell_type": "code",
      "metadata": {
        "id": "TS_UCFEul9Zm"
      },
      "source": [
        "import torch\n",
        "import torchvision\n",
        "import torchvision.transforms as transforms\n",
        "import torch.optim as optim\n",
        "import torch.nn as nn\n",
        "import numpy as np\n",
        "import matplotlib.pyplot as plt"
      ],
      "execution_count": null,
      "outputs": []
    },
    {
      "cell_type": "markdown",
      "metadata": {
        "id": "RYGxaoOWlU9x"
      },
      "source": [
        "Using GPU"
      ]
    },
    {
      "cell_type": "code",
      "metadata": {
        "id": "529syTEjVWdT"
      },
      "source": [
        "if torch.cuda.is_available():\n",
        "  device=torch.device('cuda')\n",
        "  print('Using GPU')\n",
        "else:\n",
        "  device=torch.device('cpu')"
      ],
      "execution_count": null,
      "outputs": []
    },
    {
      "cell_type": "markdown",
      "metadata": {
        "id": "hE_8jgICL3mn"
      },
      "source": [
        "Initializing the BatchSize"
      ]
    },
    {
      "cell_type": "code",
      "metadata": {
        "id": "cmE_UcdGVL99"
      },
      "source": [
        "bs=100"
      ],
      "execution_count": null,
      "outputs": []
    },
    {
      "cell_type": "markdown",
      "metadata": {
        "id": "ICBvji0vL-Pp"
      },
      "source": [
        "Data Preperation"
      ]
    },
    {
      "cell_type": "code",
      "metadata": {
        "id": "fKNMgRWWVMPW",
        "outputId": "ad6934ae-ea4d-4202-c89d-e9bea8dc8d1a",
        "colab": {
          "base_uri": "https://localhost:8080/",
          "height": 51
        }
      },
      "source": [
        "transform = transforms.Compose(\n",
        "    [transforms.ToTensor(),\n",
        "     transforms.Normalize((0, 0, 0), (1, 1, 1))])\n",
        "\n",
        "trainset = torchvision.datasets.CIFAR10(root='../data', train=True,\n",
        "                                        download=True, transform=transform)\n",
        "trainloader = torch.utils.data.DataLoader(trainset, batch_size=bs,\n",
        "                                          shuffle=True, num_workers=4)\n",
        "\n",
        "testset = torchvision.datasets.CIFAR10(root='../data', train=False,\n",
        "                                       download=True, transform=transform)\n",
        "testloader = torch.utils.data.DataLoader(testset, batch_size=bs,\n",
        "                                         shuffle=False, num_workers=4)\n",
        "classes = ['plane', 'car', 'bird', 'cat',\n",
        "           'deer', 'dog', 'frog', 'horse', 'ship', 'truck']"
      ],
      "execution_count": null,
      "outputs": [
        {
          "output_type": "stream",
          "text": [
            "Files already downloaded and verified\n",
            "Files already downloaded and verified\n"
          ],
          "name": "stdout"
        }
      ]
    },
    {
      "cell_type": "markdown",
      "metadata": {
        "id": "8YD0TFmKlYPy"
      },
      "source": [
        "Creating customized Dataset"
      ]
    },
    {
      "cell_type": "code",
      "metadata": {
        "id": "K5z9FId_ZIkc"
      },
      "source": [
        "class Colored_set(torch.utils.data.Dataset):\n",
        "  def __init__(self,array,targets,transform):\n",
        "    self.array=array\n",
        "    self.labels=targets\n",
        "    self.transform=transform\n",
        "\n",
        "  def __len__(self):\n",
        "    return self.array.shape[0]\n",
        "  def __getitem__(self,index):\n",
        "    img,target=self.array[index],self.labels[index]\n",
        "    img=self.transform(img)\n",
        "    return img,target"
      ],
      "execution_count": null,
      "outputs": []
    },
    {
      "cell_type": "code",
      "metadata": {
        "id": "RHE72KfSuemj"
      },
      "source": [
        ""
      ],
      "execution_count": null,
      "outputs": []
    },
    {
      "cell_type": "markdown",
      "metadata": {
        "id": "2e7bYVaLMBU9"
      },
      "source": [
        "Conversion of Images to only Red, Blue, Green channels each."
      ]
    },
    {
      "cell_type": "code",
      "metadata": {
        "id": "c_QvTvbGMKoz"
      },
      "source": [
        "def channel_copy(dataset,color='red'):\n",
        "    \"\"\"Isolates a specific channel in the given Image.\n",
        "    parameters:\n",
        "    dataset: pytorch dataset\n",
        "    color: color channel that should be lone present in the output image\n",
        "    \n",
        "    Returs a tensor with single color across all the channels.\n",
        "    \"\"\"\n",
        "    if color=='red' or color=='red_test':\n",
        "        index=0\n",
        "    elif color=='green' or color=='green_test':\n",
        "        index=1\n",
        "    elif color=='blue' or color=='blue_test':\n",
        "        index=2\n",
        "    else:\n",
        "        print('Invalid Entry. Switching to default red')\n",
        "        index=0;color=red\n",
        "\n",
        "    array=np.asarray(dataset.data)\n",
        "    inlist=[]; outlist=[]   # outlist=torch.empty((array.shape[0],array.shape[3],array.shape[2],array.shape[1]))\n",
        "    for i in range(0,array.shape[0]):\n",
        "        inlist=[]\n",
        "        for j in range(0,array.shape[1]):\n",
        "            inlist.append(np.reshape(np.repeat(array[i][j][:,index],array.shape[3]),(array.shape[2],array.shape[3])))\n",
        "        outlist.append(inlist)\n",
        "    return Colored_set(np.array(outlist),dataset.targets,transform=transform)\n"
      ],
      "execution_count": null,
      "outputs": []
    },
    {
      "cell_type": "code",
      "metadata": {
        "id": "71s5-UFc2Nga"
      },
      "source": [
        ""
      ],
      "execution_count": null,
      "outputs": []
    },
    {
      "cell_type": "markdown",
      "metadata": {
        "id": "Ba26TYpAlfgu"
      },
      "source": [
        "Createing Dataloaders for customized datasets (red, green, blue)"
      ]
    },
    {
      "cell_type": "code",
      "metadata": {
        "id": "ydtS9UXfMxZS"
      },
      "source": [
        "data_sets=[];loaders=[trainloader,testloader];color_set=['red','red_test','green','green_test','blue','blue_test']\n",
        "dst=[trainset, testset]\n",
        "for i in range(3):\n",
        "  color_c=0\n",
        "  for j in range(2):\n",
        "      ds=channel_copy(dst[j],color=color_set[color_c])\n",
        "      color_c+=1\n",
        "      if j==1:\n",
        "              loaders.append(torch.utils.data.DataLoader(ds, batch_size=bs,shuffle=False, num_workers=4))\n",
        "      else:\n",
        "        loaders.append(torch.utils.data.DataLoader(ds, batch_size=bs,shuffle=True, num_workers=4))\n",
        "\n"
      ],
      "execution_count": null,
      "outputs": []
    },
    {
      "cell_type": "code",
      "metadata": {
        "id": "3n-sZVEPFUfx"
      },
      "source": [
        "def imshow(img):\n",
        "    img = img / 2 + 0.5     # unnormalize\n",
        "    npimg = img.numpy()\n",
        "    plt.imshow(np.transpose(npimg, (1, 2, 0)))\n",
        "    plt.show()"
      ],
      "execution_count": null,
      "outputs": []
    },
    {
      "cell_type": "code",
      "metadata": {
        "id": "4UnC9JC4Mxi0",
        "outputId": "3b986ee5-7c6a-4d1a-80ff-7552903d4d6a",
        "colab": {
          "base_uri": "https://localhost:8080/",
          "height": 306
        }
      },
      "source": [
        "dataiter=iter(loaders[3])\n",
        "images,labels=dataiter.next()\n",
        "imshow(torchvision.utils.make_grid(images))\n",
        "print('GroundTruth:',' '.join('%5s'%classes[labels[j]] for j in range(100)))"
      ],
      "execution_count": null,
      "outputs": [
        {
          "output_type": "display_data",
          "data": {
            "image/png": "[encoded data removed]",
            "text/plain": [
              "<Figure size 432x288 with 1 Axes>"
            ]
          },
          "metadata": {
            "tags": [],
            "needs_background": "light"
          }
        },
        {
          "output_type": "stream",
          "text": [
            "GroundTruth:   cat  ship  ship plane  frog  frog   car  frog   cat   car plane truck   dog horse truck  ship   dog horse  ship  frog horse plane  deer truck   dog  bird  deer plane truck  frog  frog   dog  deer   dog truck  bird  deer   car truck   dog  deer  frog   dog  frog plane truck   cat truck horse  frog truck  ship plane   cat  ship  ship horse horse  deer  frog horse   cat  frog   cat  frog  bird   car  bird   cat horse  bird  frog  ship  ship plane  bird truck   cat   cat  ship  ship   car   car horse  bird   dog  bird horse  ship truck plane   cat  ship  frog  deer  frog  frog plane plane horse\n"
          ],
          "name": "stdout"
        }
      ]
    },
    {
      "cell_type": "code",
      "metadata": {
        "id": "Wv4kMUxvVMSf"
      },
      "source": [
        "trainloaders=[]; testloaders=[]; accuracy=[]\n",
        "for i in loaders:\n",
        "  if loaders.index(i)%2==0:\n",
        "    trainloaders.append(i)\n",
        "  else:\n",
        "    testloaders.append(i)"
      ],
      "execution_count": null,
      "outputs": []
    },
    {
      "cell_type": "markdown",
      "metadata": {
        "id": "dllLMF49louV"
      },
      "source": [
        "Training and Checking the Accuracy of the Test Set."
      ]
    },
    {
      "cell_type": "code",
      "metadata": {
        "id": "cfpJI58ZVMV2",
        "outputId": "5a050ca4-62f6-4bac-db73-97c54660b064",
        "colab": {
          "base_uri": "https://localhost:8080/",
          "height": 1000
        }
      },
      "source": [
        "totalaccuracy=[];total_class_accuracy=[]\n",
        "for train in range(len(trainloaders)):\n",
        "  resmodel=torch.hub.load('pytorch/vision:v0.6.0', 'resnet18', pretrained=False)\n",
        "  resmodel.to(device)\n",
        "  loss=nn.CrossEntropyLoss()\n",
        "  sgd = optim.SGD(resmodel.parameters(), lr=1e-1, momentum=0.9);\n",
        "  for epoch in range(10):\n",
        "      append_loss=0\n",
        "      for i, data in enumerate (trainloaders[train], 0):\n",
        "          inputs_1, labels_1=data; inputs,labels=inputs_1.to(device),labels_1.to(device)\n",
        "          sgd.zero_grad()\n",
        "          outputs=resmodel(inputs)\n",
        "          cost=loss(outputs,labels)\n",
        "          cost.backward()\n",
        "          sgd.step()\n",
        "          path='../data/{}.pth'.format(train)\n",
        "          append_loss+=cost.item()\n",
        "\n",
        "          if i%500==499:\n",
        "              print('[%d, %5d] loss: %.3f' %(epoch + 1, i + 1, append_loss/500))\n",
        "              append_loss=0\n",
        "  print('Finished Training')\n",
        "  path='../data/{}'.format(train)\n",
        "  torch.save(resmodel.state_dict(),path) # for redundancy\n",
        "  correct = 0;total = 0; class_correct=list(0. for i in range(10)); class_total = list(0. for i in range(10))\n",
        "  with torch.no_grad():\n",
        "      for data in testloaders[train]:\n",
        "                images_1, labels_1 = data; images,labels=images_1.to(device), labels_1.to(device)\n",
        "                outputs = resmodel(images)\n",
        "                _, predicted = torch.max(outputs.data, 1)\n",
        "                _, predicted_class=torch.max(outputs,1)\n",
        "                c=(predicted_class==labels).squeeze()\n",
        "                total += labels.size(0)\n",
        "                correct += (predicted == labels).sum().item()\n",
        "                for i in range(4):\n",
        "                  label=labels[i]\n",
        "                  class_correct[label]+=c[i].item();class_total[label]+=1\n",
        "  ca=[]\n",
        "  for i in range(10):\n",
        "    print('Accuracy of %5s : %2d %%' % (classes[i], 100 * class_correct[i] / class_total[i]))\n",
        "    ca.append(100 * class_correct[i] / class_total[i])\n",
        "  total_class_accuracy.append(ca)\n",
        "  totalaccuracy.append(100 * correct / total)\n",
        "  print('Accuracy of the network on the 10000 test images: %d %%' % (100 * correct / total))\n",
        "\n"
      ],
      "execution_count": null,
      "outputs": [
        {
          "output_type": "stream",
          "text": [
            "Using cache found in /root/.cache/torch/hub/pytorch_vision_v0.6.0\n"
          ],
          "name": "stderr"
        },
        {
          "output_type": "stream",
          "text": [
            "[1,   500] loss: 2.171\n",
            "[2,   500] loss: 1.364\n",
            "[3,   500] loss: 1.140\n",
            "[4,   500] loss: 0.976\n",
            "[5,   500] loss: 0.850\n",
            "[6,   500] loss: 0.741\n",
            "[7,   500] loss: 0.660\n",
            "[8,   500] loss: 0.573\n",
            "[9,   500] loss: 0.497\n",
            "[10,   500] loss: 0.430\n",
            "Finished Training\n",
            "Accuracy of plane : 77 %\n",
            "Accuracy of   car : 87 %\n",
            "Accuracy of  bird : 57 %\n",
            "Accuracy of   cat : 48 %\n",
            "Accuracy of  deer : 59 %\n",
            "Accuracy of   dog : 65 %\n",
            "Accuracy of  frog : 84 %\n",
            "Accuracy of horse : 84 %\n",
            "Accuracy of  ship : 87 %\n",
            "Accuracy of truck : 68 %\n",
            "Accuracy of the network on the 10000 test images: 72 %\n"
          ],
          "name": "stdout"
        },
        {
          "output_type": "stream",
          "text": [
            "Using cache found in /root/.cache/torch/hub/pytorch_vision_v0.6.0\n"
          ],
          "name": "stderr"
        },
        {
          "output_type": "stream",
          "text": [
            "[1,   500] loss: 2.272\n",
            "[2,   500] loss: 1.515\n",
            "[3,   500] loss: 1.285\n",
            "[4,   500] loss: 1.089\n",
            "[5,   500] loss: 0.955\n",
            "[6,   500] loss: 0.857\n",
            "[7,   500] loss: 0.770\n",
            "[8,   500] loss: 0.664\n",
            "[9,   500] loss: 0.588\n",
            "[10,   500] loss: 0.502\n",
            "Finished Training\n",
            "Accuracy of plane : 70 %\n",
            "Accuracy of   car : 78 %\n",
            "Accuracy of  bird : 57 %\n",
            "Accuracy of   cat : 46 %\n",
            "Accuracy of  deer : 59 %\n",
            "Accuracy of   dog : 65 %\n",
            "Accuracy of  frog : 75 %\n",
            "Accuracy of horse : 84 %\n",
            "Accuracy of  ship : 70 %\n",
            "Accuracy of truck : 75 %\n",
            "Accuracy of the network on the 10000 test images: 69 %\n"
          ],
          "name": "stdout"
        },
        {
          "output_type": "stream",
          "text": [
            "Using cache found in /root/.cache/torch/hub/pytorch_vision_v0.6.0\n"
          ],
          "name": "stderr"
        },
        {
          "output_type": "stream",
          "text": [
            "[1,   500] loss: 2.234\n",
            "[2,   500] loss: 1.627\n",
            "[3,   500] loss: 1.335\n",
            "[4,   500] loss: 1.135\n",
            "[5,   500] loss: 0.989\n",
            "[6,   500] loss: 0.870\n",
            "[7,   500] loss: 0.772\n",
            "[8,   500] loss: 0.676\n",
            "[9,   500] loss: 0.590\n",
            "[10,   500] loss: 0.514\n",
            "Finished Training\n",
            "Accuracy of plane : 68 %\n",
            "Accuracy of   car : 84 %\n",
            "Accuracy of  bird : 65 %\n",
            "Accuracy of   cat : 48 %\n",
            "Accuracy of  deer : 61 %\n",
            "Accuracy of   dog : 68 %\n",
            "Accuracy of  frog : 73 %\n",
            "Accuracy of horse : 84 %\n",
            "Accuracy of  ship : 75 %\n",
            "Accuracy of truck : 65 %\n",
            "Accuracy of the network on the 10000 test images: 70 %\n"
          ],
          "name": "stdout"
        },
        {
          "output_type": "stream",
          "text": [
            "Using cache found in /root/.cache/torch/hub/pytorch_vision_v0.6.0\n"
          ],
          "name": "stderr"
        },
        {
          "output_type": "stream",
          "text": [
            "[1,   500] loss: 2.132\n",
            "[2,   500] loss: 1.467\n",
            "[3,   500] loss: 1.217\n",
            "[4,   500] loss: 1.044\n",
            "[5,   500] loss: 0.938\n",
            "[6,   500] loss: 0.811\n",
            "[7,   500] loss: 0.703\n",
            "[8,   500] loss: 0.610\n",
            "[9,   500] loss: 0.520\n",
            "[10,   500] loss: 0.441\n",
            "Finished Training\n",
            "Accuracy of plane : 75 %\n",
            "Accuracy of   car : 84 %\n",
            "Accuracy of  bird : 55 %\n",
            "Accuracy of   cat : 34 %\n",
            "Accuracy of  deer : 61 %\n",
            "Accuracy of   dog : 59 %\n",
            "Accuracy of  frog : 75 %\n",
            "Accuracy of horse : 81 %\n",
            "Accuracy of  ship : 77 %\n",
            "Accuracy of truck : 86 %\n",
            "Accuracy of the network on the 10000 test images: 69 %\n"
          ],
          "name": "stdout"
        }
      ]
    },
    {
      "cell_type": "code",
      "metadata": {
        "id": "SI0UJFaGVMZH",
        "outputId": "0f388432-efa2-482c-90fd-aa2b05499dda",
        "colab": {
          "base_uri": "https://localhost:8080/",
          "height": 153
        }
      },
      "source": [
        "for i in total_class_accuracy:\n",
        "  print('accuracy per class')\n",
        "  print (i)"
      ],
      "execution_count": null,
      "outputs": [
        {
          "output_type": "stream",
          "text": [
            "accuracy per class\n",
            "[77.27272727272727, 87.5, 57.89473684210526, 48.83720930232558, 59.183673469387756, 65.625, 84.90566037735849, 84.375, 87.5, 68.96551724137932]\n",
            "accuracy per class\n",
            "[70.45454545454545, 78.125, 57.89473684210526, 46.51162790697674, 59.183673469387756, 65.625, 75.47169811320755, 84.375, 70.83333333333333, 75.86206896551724]\n",
            "accuracy per class\n",
            "[68.18181818181819, 84.375, 65.78947368421052, 48.83720930232558, 61.224489795918366, 68.75, 73.58490566037736, 84.375, 75.0, 65.51724137931035]\n",
            "accuracy per class\n",
            "[75.0, 84.375, 55.26315789473684, 34.883720930232556, 61.224489795918366, 59.375, 75.47169811320755, 81.25, 77.08333333333333, 86.20689655172414]\n"
          ],
          "name": "stdout"
        }
      ]
    },
    {
      "cell_type": "code",
      "metadata": {
        "id": "q5cqKW0QVMcP"
      },
      "source": [
        "import pandas as pd "
      ],
      "execution_count": null,
      "outputs": []
    },
    {
      "cell_type": "code",
      "metadata": {
        "id": "pIbgEqBJdYZj"
      },
      "source": [
        "class_per=pd.DataFrame(total_class_accuracy)\n",
        "channel_acc=pd.DataFrame(totalaccuracy)"
      ],
      "execution_count": null,
      "outputs": []
    },
    {
      "cell_type": "code",
      "metadata": {
        "id": "yYShGvNQdj9b"
      },
      "source": [
        "import plotly.graph_objects as go\n",
        "\n"
      ],
      "execution_count": null,
      "outputs": []
    },
    {
      "cell_type": "code",
      "metadata": {
        "id": "yLT2BJTDiBr5"
      },
      "source": [
        "classes.append('Testset Accuracy');count=0\n",
        "for i in total_class_accuracy:\n",
        "  \n",
        "  i.append(totalaccuracy[count])\n",
        "  count+=1"
      ],
      "execution_count": null,
      "outputs": []
    },
    {
      "cell_type": "code",
      "metadata": {
        "id": "vM6LXFW_kE1m",
        "outputId": "ea994caa-960c-4de6-fca8-c413511fa08c",
        "colab": {
          "base_uri": "https://localhost:8080/",
          "height": 34
        }
      },
      "source": [
        ""
      ],
      "execution_count": null,
      "outputs": [
        {
          "output_type": "execute_result",
          "data": {
            "text/plain": [
              "['plane', 'car', 'bird', 'cat', 'deer', 'dog', 'frog', 'horse']"
            ]
          },
          "metadata": {
            "tags": []
          },
          "execution_count": 50
        }
      ]
    },
    {
      "cell_type": "code",
      "metadata": {
        "id": "NK8YzfSrjHG2"
      },
      "source": [
        ""
      ],
      "execution_count": null,
      "outputs": []
    },
    {
      "cell_type": "markdown",
      "metadata": {
        "id": "Z-yKgv0elyU9"
      },
      "source": [
        "Tabulating the results."
      ]
    },
    {
      "cell_type": "code",
      "metadata": {
        "id": "v8xSf8lQeN-P",
        "outputId": "5166b384-8024-44a0-e493-fe3628ccd0de",
        "colab": {
          "base_uri": "https://localhost:8080/",
          "height": 542
        }
      },
      "source": [
        "channels=['Original','Red_channel','Green_channel','Blue_Channel']\n",
        "\n",
        "fig = go.Figure(data=[go.Table(header=dict(values=['Classes', 'Accuracy of '+str(channels[0]),'Accuracy of '+str(channels[1]),'Accuracy of '+str(channels[2]),'Accuracy of '+str(channels[3])]),cells=dict(values=[classes, total_class_accuracy[0],total_class_accuracy[1],total_class_accuracy[2],total_class_accuracy[3]]))  ])\n",
        "fig.show()\n"
      ],
      "execution_count": null,
      "outputs": [
        {
          "output_type": "display_data",
          "data": {
            "text/html": [
              "<html>\n",
              "<head><meta charset=\"utf-8\" /></head>\n",
              "<body>\n",
              "    <div>\n",
              "            <script src=\"https://cdnjs.cloudflare.com/ajax/libs/mathjax/2.7.5/MathJax.js?config=TeX-AMS-MML_SVG\"></script><script type=\"text/javascript\">if (window.MathJax) {MathJax.Hub.Config({SVG: {font: \"STIX-Web\"}});}</script>\n",
              "                <script type=\"text/javascript\">window.PlotlyConfig = {MathJaxConfig: 'local'};</script>\n",
              "        <script src=\"https://cdn.plot.ly/plotly-latest.min.js\"></script>    \n",
              "            <div id=\"30668db2-899f-4287-aee8-c1f72273c75d\" class=\"plotly-graph-div\" style=\"height:525px; width:100%;\"></div>\n",
              "            <script type=\"text/javascript\">\n",
              "                \n",
              "                    window.PLOTLYENV=window.PLOTLYENV || {};\n",
              "                    \n",
              "                if (document.getElementById(\"30668db2-899f-4287-aee8-c1f72273c75d\")) {\n",
              "                    Plotly.newPlot(\n",
              "                        '30668db2-899f-4287-aee8-c1f72273c75d',\n",
              "                        [{\"cells\": {\"values\": [[\"plane\", \"car\", \"bird\", \"cat\", \"deer\", \"dog\", \"frog\", \"horse\", \"ship\", \"truck\", \"Testset Accuracy\"], [77.27272727272727, 87.5, 57.89473684210526, 48.83720930232558, 59.183673469387756, 65.625, 84.90566037735849, 84.375, 87.5, 68.96551724137932, 72.44], [70.45454545454545, 78.125, 57.89473684210526, 46.51162790697674, 59.183673469387756, 65.625, 75.47169811320755, 84.375, 70.83333333333333, 75.86206896551724, 69.28], [68.18181818181819, 84.375, 65.78947368421052, 48.83720930232558, 61.224489795918366, 68.75, 73.58490566037736, 84.375, 75.0, 65.51724137931035, 70.04], [75.0, 84.375, 55.26315789473684, 34.883720930232556, 61.224489795918366, 59.375, 75.47169811320755, 81.25, 77.08333333333333, 86.20689655172414, 69.23]]}, \"header\": {\"values\": [\"Classes\", \"Accuracy of Original\", \"Accuracy of Red_channel\", \"Accuracy of Green_channel\", \"Accuracy of Blue_Channel\"]}, \"type\": \"table\"}],\n",
              "                        {\"template\": {\"data\": {\"bar\": [{\"error_x\": {\"color\": \"#2a3f5f\"}, \"error_y\": {\"color\": \"#2a3f5f\"}, \"marker\": {\"line\": {\"color\": \"#E5ECF6\", \"width\": 0.5}}, \"type\": \"bar\"}], \"barpolar\": [{\"marker\": {\"line\": {\"color\": \"#E5ECF6\", \"width\": 0.5}}, \"type\": \"barpolar\"}], \"carpet\": [{\"aaxis\": {\"endlinecolor\": \"#2a3f5f\", \"gridcolor\": \"white\", \"linecolor\": \"white\", \"minorgridcolor\": \"white\", \"startlinecolor\": \"#2a3f5f\"}, \"baxis\": {\"endlinecolor\": \"#2a3f5f\", \"gridcolor\": \"white\", \"linecolor\": \"white\", \"minorgridcolor\": \"white\", \"startlinecolor\": \"#2a3f5f\"}, \"type\": \"carpet\"}], \"choropleth\": [{\"colorbar\": {\"outlinewidth\": 0, \"ticks\": \"\"}, \"type\": \"choropleth\"}], \"contour\": [{\"colorbar\": {\"outlinewidth\": 0, \"ticks\": \"\"}, \"colorscale\": [[0.0, \"#0d0887\"], [0.1111111111111111, \"#46039f\"], [0.2222222222222222, \"#7201a8\"], [0.3333333333333333, \"#9c179e\"], [0.4444444444444444, \"#bd3786\"], [0.5555555555555556, \"#d8576b\"], [0.6666666666666666, \"#ed7953\"], [0.7777777777777778, \"#fb9f3a\"], [0.8888888888888888, \"#fdca26\"], [1.0, \"#f0f921\"]], \"type\": \"contour\"}], \"contourcarpet\": [{\"colorbar\": {\"outlinewidth\": 0, \"ticks\": \"\"}, \"type\": \"contourcarpet\"}], \"heatmap\": [{\"colorbar\": {\"outlinewidth\": 0, \"ticks\": \"\"}, \"colorscale\": [[0.0, \"#0d0887\"], [0.1111111111111111, \"#46039f\"], [0.2222222222222222, \"#7201a8\"], [0.3333333333333333, \"#9c179e\"], [0.4444444444444444, \"#bd3786\"], [0.5555555555555556, \"#d8576b\"], [0.6666666666666666, \"#ed7953\"], [0.7777777777777778, \"#fb9f3a\"], [0.8888888888888888, \"#fdca26\"], [1.0, \"#f0f921\"]], \"type\": \"heatmap\"}], \"heatmapgl\": [{\"colorbar\": {\"outlinewidth\": 0, \"ticks\": \"\"}, \"colorscale\": [[0.0, \"#0d0887\"], [0.1111111111111111, \"#46039f\"], [0.2222222222222222, \"#7201a8\"], [0.3333333333333333, \"#9c179e\"], [0.4444444444444444, \"#bd3786\"], [0.5555555555555556, \"#d8576b\"], [0.6666666666666666, \"#ed7953\"], [0.7777777777777778, \"#fb9f3a\"], [0.8888888888888888, \"#fdca26\"], [1.0, \"#f0f921\"]], \"type\": \"heatmapgl\"}], \"histogram\": [{\"marker\": {\"colorbar\": {\"outlinewidth\": 0, \"ticks\": \"\"}}, \"type\": \"histogram\"}], \"histogram2d\": [{\"colorbar\": {\"outlinewidth\": 0, \"ticks\": \"\"}, \"colorscale\": [[0.0, \"#0d0887\"], [0.1111111111111111, \"#46039f\"], [0.2222222222222222, \"#7201a8\"], [0.3333333333333333, \"#9c179e\"], [0.4444444444444444, \"#bd3786\"], [0.5555555555555556, \"#d8576b\"], [0.6666666666666666, \"#ed7953\"], [0.7777777777777778, \"#fb9f3a\"], [0.8888888888888888, \"#fdca26\"], [1.0, \"#f0f921\"]], \"type\": \"histogram2d\"}], \"histogram2dcontour\": [{\"colorbar\": {\"outlinewidth\": 0, \"ticks\": \"\"}, \"colorscale\": [[0.0, \"#0d0887\"], [0.1111111111111111, \"#46039f\"], [0.2222222222222222, \"#7201a8\"], [0.3333333333333333, \"#9c179e\"], [0.4444444444444444, \"#bd3786\"], [0.5555555555555556, \"#d8576b\"], [0.6666666666666666, \"#ed7953\"], [0.7777777777777778, \"#fb9f3a\"], [0.8888888888888888, \"#fdca26\"], [1.0, \"#f0f921\"]], \"type\": \"histogram2dcontour\"}], \"mesh3d\": [{\"colorbar\": {\"outlinewidth\": 0, \"ticks\": \"\"}, \"type\": \"mesh3d\"}], \"parcoords\": [{\"line\": {\"colorbar\": {\"outlinewidth\": 0, \"ticks\": \"\"}}, \"type\": \"parcoords\"}], \"pie\": [{\"automargin\": true, \"type\": \"pie\"}], \"scatter\": [{\"marker\": {\"colorbar\": {\"outlinewidth\": 0, \"ticks\": \"\"}}, \"type\": \"scatter\"}], \"scatter3d\": [{\"line\": {\"colorbar\": {\"outlinewidth\": 0, \"ticks\": \"\"}}, \"marker\": {\"colorbar\": {\"outlinewidth\": 0, \"ticks\": \"\"}}, \"type\": \"scatter3d\"}], \"scattercarpet\": [{\"marker\": {\"colorbar\": {\"outlinewidth\": 0, \"ticks\": \"\"}}, \"type\": \"scattercarpet\"}], \"scattergeo\": [{\"marker\": {\"colorbar\": {\"outlinewidth\": 0, \"ticks\": \"\"}}, \"type\": \"scattergeo\"}], \"scattergl\": [{\"marker\": {\"colorbar\": {\"outlinewidth\": 0, \"ticks\": \"\"}}, \"type\": \"scattergl\"}], \"scattermapbox\": [{\"marker\": {\"colorbar\": {\"outlinewidth\": 0, \"ticks\": \"\"}}, \"type\": \"scattermapbox\"}], \"scatterpolar\": [{\"marker\": {\"colorbar\": {\"outlinewidth\": 0, \"ticks\": \"\"}}, \"type\": \"scatterpolar\"}], \"scatterpolargl\": [{\"marker\": {\"colorbar\": {\"outlinewidth\": 0, \"ticks\": \"\"}}, \"type\": \"scatterpolargl\"}], \"scatterternary\": [{\"marker\": {\"colorbar\": {\"outlinewidth\": 0, \"ticks\": \"\"}}, \"type\": \"scatterternary\"}], \"surface\": [{\"colorbar\": {\"outlinewidth\": 0, \"ticks\": \"\"}, \"colorscale\": [[0.0, \"#0d0887\"], [0.1111111111111111, \"#46039f\"], [0.2222222222222222, \"#7201a8\"], [0.3333333333333333, \"#9c179e\"], [0.4444444444444444, \"#bd3786\"], [0.5555555555555556, \"#d8576b\"], [0.6666666666666666, \"#ed7953\"], [0.7777777777777778, \"#fb9f3a\"], [0.8888888888888888, \"#fdca26\"], [1.0, \"#f0f921\"]], \"type\": \"surface\"}], \"table\": [{\"cells\": {\"fill\": {\"color\": \"#EBF0F8\"}, \"line\": {\"color\": \"white\"}}, \"header\": {\"fill\": {\"color\": \"#C8D4E3\"}, \"line\": {\"color\": \"white\"}}, \"type\": \"table\"}]}, \"layout\": {\"annotationdefaults\": {\"arrowcolor\": \"#2a3f5f\", \"arrowhead\": 0, \"arrowwidth\": 1}, \"coloraxis\": {\"colorbar\": {\"outlinewidth\": 0, \"ticks\": \"\"}}, \"colorscale\": {\"diverging\": [[0, \"#8e0152\"], [0.1, \"#c51b7d\"], [0.2, \"#de77ae\"], [0.3, \"#f1b6da\"], [0.4, \"#fde0ef\"], [0.5, \"#f7f7f7\"], [0.6, \"#e6f5d0\"], [0.7, \"#b8e186\"], [0.8, \"#7fbc41\"], [0.9, \"#4d9221\"], [1, \"#276419\"]], \"sequential\": [[0.0, \"#0d0887\"], [0.1111111111111111, \"#46039f\"], [0.2222222222222222, \"#7201a8\"], [0.3333333333333333, \"#9c179e\"], [0.4444444444444444, \"#bd3786\"], [0.5555555555555556, \"#d8576b\"], [0.6666666666666666, \"#ed7953\"], [0.7777777777777778, \"#fb9f3a\"], [0.8888888888888888, \"#fdca26\"], [1.0, \"#f0f921\"]], \"sequentialminus\": [[0.0, \"#0d0887\"], [0.1111111111111111, \"#46039f\"], [0.2222222222222222, \"#7201a8\"], [0.3333333333333333, \"#9c179e\"], [0.4444444444444444, \"#bd3786\"], [0.5555555555555556, \"#d8576b\"], [0.6666666666666666, \"#ed7953\"], [0.7777777777777778, \"#fb9f3a\"], [0.8888888888888888, \"#fdca26\"], [1.0, \"#f0f921\"]]}, \"colorway\": [\"#636efa\", \"#EF553B\", \"#00cc96\", \"#ab63fa\", \"#FFA15A\", \"#19d3f3\", \"#FF6692\", \"#B6E880\", \"#FF97FF\", \"#FECB52\"], \"font\": {\"color\": \"#2a3f5f\"}, \"geo\": {\"bgcolor\": \"white\", \"lakecolor\": \"white\", \"landcolor\": \"#E5ECF6\", \"showlakes\": true, \"showland\": true, \"subunitcolor\": \"white\"}, \"hoverlabel\": {\"align\": \"left\"}, \"hovermode\": \"closest\", \"mapbox\": {\"style\": \"light\"}, \"paper_bgcolor\": \"white\", \"plot_bgcolor\": \"#E5ECF6\", \"polar\": {\"angularaxis\": {\"gridcolor\": \"white\", \"linecolor\": \"white\", \"ticks\": \"\"}, \"bgcolor\": \"#E5ECF6\", \"radialaxis\": {\"gridcolor\": \"white\", \"linecolor\": \"white\", \"ticks\": \"\"}}, \"scene\": {\"xaxis\": {\"backgroundcolor\": \"#E5ECF6\", \"gridcolor\": \"white\", \"gridwidth\": 2, \"linecolor\": \"white\", \"showbackground\": true, \"ticks\": \"\", \"zerolinecolor\": \"white\"}, \"yaxis\": {\"backgroundcolor\": \"#E5ECF6\", \"gridcolor\": \"white\", \"gridwidth\": 2, \"linecolor\": \"white\", \"showbackground\": true, \"ticks\": \"\", \"zerolinecolor\": \"white\"}, \"zaxis\": {\"backgroundcolor\": \"#E5ECF6\", \"gridcolor\": \"white\", \"gridwidth\": 2, \"linecolor\": \"white\", \"showbackground\": true, \"ticks\": \"\", \"zerolinecolor\": \"white\"}}, \"shapedefaults\": {\"line\": {\"color\": \"#2a3f5f\"}}, \"ternary\": {\"aaxis\": {\"gridcolor\": \"white\", \"linecolor\": \"white\", \"ticks\": \"\"}, \"baxis\": {\"gridcolor\": \"white\", \"linecolor\": \"white\", \"ticks\": \"\"}, \"bgcolor\": \"#E5ECF6\", \"caxis\": {\"gridcolor\": \"white\", \"linecolor\": \"white\", \"ticks\": \"\"}}, \"title\": {\"x\": 0.05}, \"xaxis\": {\"automargin\": true, \"gridcolor\": \"white\", \"linecolor\": \"white\", \"ticks\": \"\", \"title\": {\"standoff\": 15}, \"zerolinecolor\": \"white\", \"zerolinewidth\": 2}, \"yaxis\": {\"automargin\": true, \"gridcolor\": \"white\", \"linecolor\": \"white\", \"ticks\": \"\", \"title\": {\"standoff\": 15}, \"zerolinecolor\": \"white\", \"zerolinewidth\": 2}}}},\n",
              "                        {\"responsive\": true}\n",
              "                    ).then(function(){\n",
              "                            \n",
              "var gd = document.getElementById('30668db2-899f-4287-aee8-c1f72273c75d');\n",
              "var x = new MutationObserver(function (mutations, observer) {{\n",
              "        var display = window.getComputedStyle(gd).display;\n",
              "        if (!display || display === 'none') {{\n",
              "            console.log([gd, 'removed!']);\n",
              "            Plotly.purge(gd);\n",
              "            observer.disconnect();\n",
              "        }}\n",
              "}});\n",
              "\n",
              "// Listen for the removal of the full notebook cells\n",
              "var notebookContainer = gd.closest('#notebook-container');\n",
              "if (notebookContainer) {{\n",
              "    x.observe(notebookContainer, {childList: true});\n",
              "}}\n",
              "\n",
              "// Listen for the clearing of the current output cell\n",
              "var outputEl = gd.closest('.output');\n",
              "if (outputEl) {{\n",
              "    x.observe(outputEl, {childList: true});\n",
              "}}\n",
              "\n",
              "                        })\n",
              "                };\n",
              "                \n",
              "            </script>\n",
              "        </div>\n",
              "</body>\n",
              "</html>"
            ]
          },
          "metadata": {
            "tags": []
          }
        }
      ]
    },
    {
      "cell_type": "code",
      "metadata": {
        "id": "Csbeauvte7D6",
        "outputId": "6557b367-13dc-415d-d06f-7df88ec70875",
        "colab": {
          "base_uri": "https://localhost:8080/",
          "height": 17
        }
      },
      "source": [
        "files.download('../data/classwiseaccuracy.csv')\n",
        "files.download('../data/channelwiseaccuracy.csv')"
      ],
      "execution_count": null,
      "outputs": [
        {
          "output_type": "display_data",
          "data": {
            "application/javascript": [
              "\n",
              "    async function download(id, filename, size) {\n",
              "      if (!google.colab.kernel.accessAllowed) {\n",
              "        return;\n",
              "      }\n",
              "      const div = document.createElement('div');\n",
              "      const label = document.createElement('label');\n",
              "      label.textContent = `Downloading \"${filename}\": `;\n",
              "      div.appendChild(label);\n",
              "      const progress = document.createElement('progress');\n",
              "      progress.max = size;\n",
              "      div.appendChild(progress);\n",
              "      document.body.appendChild(div);\n",
              "\n",
              "      const buffers = [];\n",
              "      let downloaded = 0;\n",
              "\n",
              "      const channel = await google.colab.kernel.comms.open(id);\n",
              "      // Send a message to notify the kernel that we're ready.\n",
              "      channel.send({})\n",
              "\n",
              "      for await (const message of channel.messages) {\n",
              "        // Send a message to notify the kernel that we're ready.\n",
              "        channel.send({})\n",
              "        if (message.buffers) {\n",
              "          for (const buffer of message.buffers) {\n",
              "            buffers.push(buffer);\n",
              "            downloaded += buffer.byteLength;\n",
              "            progress.value = downloaded;\n",
              "          }\n",
              "        }\n",
              "      }\n",
              "      const blob = new Blob(buffers, {type: 'application/binary'});\n",
              "      const a = document.createElement('a');\n",
              "      a.href = window.URL.createObjectURL(blob);\n",
              "      a.download = filename;\n",
              "      div.appendChild(a);\n",
              "      a.click();\n",
              "      div.remove();\n",
              "    }\n",
              "  "
            ],
            "text/plain": [
              "<IPython.core.display.Javascript object>"
            ]
          },
          "metadata": {
            "tags": []
          }
        },
        {
          "output_type": "display_data",
          "data": {
            "application/javascript": [
              "download(\"download_6e6ea926-ab6f-4186-8aa9-167906333040\", \"classwiseaccuracy.csv\", 579)"
            ],
            "text/plain": [
              "<IPython.core.display.Javascript object>"
            ]
          },
          "metadata": {
            "tags": []
          }
        },
        {
          "output_type": "display_data",
          "data": {
            "application/javascript": [
              "\n",
              "    async function download(id, filename, size) {\n",
              "      if (!google.colab.kernel.accessAllowed) {\n",
              "        return;\n",
              "      }\n",
              "      const div = document.createElement('div');\n",
              "      const label = document.createElement('label');\n",
              "      label.textContent = `Downloading \"${filename}\": `;\n",
              "      div.appendChild(label);\n",
              "      const progress = document.createElement('progress');\n",
              "      progress.max = size;\n",
              "      div.appendChild(progress);\n",
              "      document.body.appendChild(div);\n",
              "\n",
              "      const buffers = [];\n",
              "      let downloaded = 0;\n",
              "\n",
              "      const channel = await google.colab.kernel.comms.open(id);\n",
              "      // Send a message to notify the kernel that we're ready.\n",
              "      channel.send({})\n",
              "\n",
              "      for await (const message of channel.messages) {\n",
              "        // Send a message to notify the kernel that we're ready.\n",
              "        channel.send({})\n",
              "        if (message.buffers) {\n",
              "          for (const buffer of message.buffers) {\n",
              "            buffers.push(buffer);\n",
              "            downloaded += buffer.byteLength;\n",
              "            progress.value = downloaded;\n",
              "          }\n",
              "        }\n",
              "      }\n",
              "      const blob = new Blob(buffers, {type: 'application/binary'});\n",
              "      const a = document.createElement('a');\n",
              "      a.href = window.URL.createObjectURL(blob);\n",
              "      a.download = filename;\n",
              "      div.appendChild(a);\n",
              "      a.click();\n",
              "      div.remove();\n",
              "    }\n",
              "  "
            ],
            "text/plain": [
              "<IPython.core.display.Javascript object>"
            ]
          },
          "metadata": {
            "tags": []
          }
        },
        {
          "output_type": "display_data",
          "data": {
            "application/javascript": [
              "download(\"download_1bc6823a-46bd-4915-a58d-501808421c10\", \"channelwiseaccuracy.csv\", 35)"
            ],
            "text/plain": [
              "<IPython.core.display.Javascript object>"
            ]
          },
          "metadata": {
            "tags": []
          }
        }
      ]
    },
    {
      "cell_type": "code",
      "metadata": {
        "id": "ZXGC2rEgfJwL"
      },
      "source": [
        "from google.colab import files"
      ],
      "execution_count": null,
      "outputs": []
    },
    {
      "cell_type": "code",
      "metadata": {
        "id": "5J9aEYPhk2OW",
        "outputId": "fa7c1fac-241e-4671-ec9e-6c4127262dba",
        "colab": {
          "base_uri": "https://localhost:8080/",
          "height": 17
        }
      },
      "source": [
        "files.download('../data/0')\n",
        "files.download('../data/1')\n",
        "files.download('../data/2')\n",
        "files.download('../data/3')"
      ],
      "execution_count": null,
      "outputs": [
        {
          "output_type": "display_data",
          "data": {
            "application/javascript": [
              "\n",
              "    async function download(id, filename, size) {\n",
              "      if (!google.colab.kernel.accessAllowed) {\n",
              "        return;\n",
              "      }\n",
              "      const div = document.createElement('div');\n",
              "      const label = document.createElement('label');\n",
              "      label.textContent = `Downloading \"${filename}\": `;\n",
              "      div.appendChild(label);\n",
              "      const progress = document.createElement('progress');\n",
              "      progress.max = size;\n",
              "      div.appendChild(progress);\n",
              "      document.body.appendChild(div);\n",
              "\n",
              "      const buffers = [];\n",
              "      let downloaded = 0;\n",
              "\n",
              "      const channel = await google.colab.kernel.comms.open(id);\n",
              "      // Send a message to notify the kernel that we're ready.\n",
              "      channel.send({})\n",
              "\n",
              "      for await (const message of channel.messages) {\n",
              "        // Send a message to notify the kernel that we're ready.\n",
              "        channel.send({})\n",
              "        if (message.buffers) {\n",
              "          for (const buffer of message.buffers) {\n",
              "            buffers.push(buffer);\n",
              "            downloaded += buffer.byteLength;\n",
              "            progress.value = downloaded;\n",
              "          }\n",
              "        }\n",
              "      }\n",
              "      const blob = new Blob(buffers, {type: 'application/binary'});\n",
              "      const a = document.createElement('a');\n",
              "      a.href = window.URL.createObjectURL(blob);\n",
              "      a.download = filename;\n",
              "      div.appendChild(a);\n",
              "      a.click();\n",
              "      div.remove();\n",
              "    }\n",
              "  "
            ],
            "text/plain": [
              "<IPython.core.display.Javascript object>"
            ]
          },
          "metadata": {
            "tags": []
          }
        },
        {
          "output_type": "display_data",
          "data": {
            "application/javascript": [
              "download(\"download_6163a0d6-4f9c-4c5f-b957-e2691074bcff\", \"0\", 46837993)"
            ],
            "text/plain": [
              "<IPython.core.display.Javascript object>"
            ]
          },
          "metadata": {
            "tags": []
          }
        },
        {
          "output_type": "display_data",
          "data": {
            "application/javascript": [
              "\n",
              "    async function download(id, filename, size) {\n",
              "      if (!google.colab.kernel.accessAllowed) {\n",
              "        return;\n",
              "      }\n",
              "      const div = document.createElement('div');\n",
              "      const label = document.createElement('label');\n",
              "      label.textContent = `Downloading \"${filename}\": `;\n",
              "      div.appendChild(label);\n",
              "      const progress = document.createElement('progress');\n",
              "      progress.max = size;\n",
              "      div.appendChild(progress);\n",
              "      document.body.appendChild(div);\n",
              "\n",
              "      const buffers = [];\n",
              "      let downloaded = 0;\n",
              "\n",
              "      const channel = await google.colab.kernel.comms.open(id);\n",
              "      // Send a message to notify the kernel that we're ready.\n",
              "      channel.send({})\n",
              "\n",
              "      for await (const message of channel.messages) {\n",
              "        // Send a message to notify the kernel that we're ready.\n",
              "        channel.send({})\n",
              "        if (message.buffers) {\n",
              "          for (const buffer of message.buffers) {\n",
              "            buffers.push(buffer);\n",
              "            downloaded += buffer.byteLength;\n",
              "            progress.value = downloaded;\n",
              "          }\n",
              "        }\n",
              "      }\n",
              "      const blob = new Blob(buffers, {type: 'application/binary'});\n",
              "      const a = document.createElement('a');\n",
              "      a.href = window.URL.createObjectURL(blob);\n",
              "      a.download = filename;\n",
              "      div.appendChild(a);\n",
              "      a.click();\n",
              "      div.remove();\n",
              "    }\n",
              "  "
            ],
            "text/plain": [
              "<IPython.core.display.Javascript object>"
            ]
          },
          "metadata": {
            "tags": []
          }
        },
        {
          "output_type": "display_data",
          "data": {
            "application/javascript": [
              "download(\"download_ea97e5c9-787c-4a4c-9768-172163e4f22f\", \"1\", 46837959)"
            ],
            "text/plain": [
              "<IPython.core.display.Javascript object>"
            ]
          },
          "metadata": {
            "tags": []
          }
        },
        {
          "output_type": "display_data",
          "data": {
            "application/javascript": [
              "\n",
              "    async function download(id, filename, size) {\n",
              "      if (!google.colab.kernel.accessAllowed) {\n",
              "        return;\n",
              "      }\n",
              "      const div = document.createElement('div');\n",
              "      const label = document.createElement('label');\n",
              "      label.textContent = `Downloading \"${filename}\": `;\n",
              "      div.appendChild(label);\n",
              "      const progress = document.createElement('progress');\n",
              "      progress.max = size;\n",
              "      div.appendChild(progress);\n",
              "      document.body.appendChild(div);\n",
              "\n",
              "      const buffers = [];\n",
              "      let downloaded = 0;\n",
              "\n",
              "      const channel = await google.colab.kernel.comms.open(id);\n",
              "      // Send a message to notify the kernel that we're ready.\n",
              "      channel.send({})\n",
              "\n",
              "      for await (const message of channel.messages) {\n",
              "        // Send a message to notify the kernel that we're ready.\n",
              "        channel.send({})\n",
              "        if (message.buffers) {\n",
              "          for (const buffer of message.buffers) {\n",
              "            buffers.push(buffer);\n",
              "            downloaded += buffer.byteLength;\n",
              "            progress.value = downloaded;\n",
              "          }\n",
              "        }\n",
              "      }\n",
              "      const blob = new Blob(buffers, {type: 'application/binary'});\n",
              "      const a = document.createElement('a');\n",
              "      a.href = window.URL.createObjectURL(blob);\n",
              "      a.download = filename;\n",
              "      div.appendChild(a);\n",
              "      a.click();\n",
              "      div.remove();\n",
              "    }\n",
              "  "
            ],
            "text/plain": [
              "<IPython.core.display.Javascript object>"
            ]
          },
          "metadata": {
            "tags": []
          }
        },
        {
          "output_type": "display_data",
          "data": {
            "application/javascript": [
              "download(\"download_3d8d09fd-95cd-4be4-be91-ae3169238dd4\", \"2\", 46837965)"
            ],
            "text/plain": [
              "<IPython.core.display.Javascript object>"
            ]
          },
          "metadata": {
            "tags": []
          }
        },
        {
          "output_type": "display_data",
          "data": {
            "application/javascript": [
              "\n",
              "    async function download(id, filename, size) {\n",
              "      if (!google.colab.kernel.accessAllowed) {\n",
              "        return;\n",
              "      }\n",
              "      const div = document.createElement('div');\n",
              "      const label = document.createElement('label');\n",
              "      label.textContent = `Downloading \"${filename}\": `;\n",
              "      div.appendChild(label);\n",
              "      const progress = document.createElement('progress');\n",
              "      progress.max = size;\n",
              "      div.appendChild(progress);\n",
              "      document.body.appendChild(div);\n",
              "\n",
              "      const buffers = [];\n",
              "      let downloaded = 0;\n",
              "\n",
              "      const channel = await google.colab.kernel.comms.open(id);\n",
              "      // Send a message to notify the kernel that we're ready.\n",
              "      channel.send({})\n",
              "\n",
              "      for await (const message of channel.messages) {\n",
              "        // Send a message to notify the kernel that we're ready.\n",
              "        channel.send({})\n",
              "        if (message.buffers) {\n",
              "          for (const buffer of message.buffers) {\n",
              "            buffers.push(buffer);\n",
              "            downloaded += buffer.byteLength;\n",
              "            progress.value = downloaded;\n",
              "          }\n",
              "        }\n",
              "      }\n",
              "      const blob = new Blob(buffers, {type: 'application/binary'});\n",
              "      const a = document.createElement('a');\n",
              "      a.href = window.URL.createObjectURL(blob);\n",
              "      a.download = filename;\n",
              "      div.appendChild(a);\n",
              "      a.click();\n",
              "      div.remove();\n",
              "    }\n",
              "  "
            ],
            "text/plain": [
              "<IPython.core.display.Javascript object>"
            ]
          },
          "metadata": {
            "tags": []
          }
        },
        {
          "output_type": "display_data",
          "data": {
            "application/javascript": [
              "download(\"download_6f8d4bfd-daaa-47e9-b552-62abd84594f0\", \"3\", 46837960)"
            ],
            "text/plain": [
              "<IPython.core.display.Javascript object>"
            ]
          },
          "metadata": {
            "tags": []
          }
        }
      ]
    },
    {
      "cell_type": "code",
      "metadata": {
        "id": "0XbHeq0dlDKR"
      },
      "source": [
        ""
      ],
      "execution_count": null,
      "outputs": []
    }
  ]
}